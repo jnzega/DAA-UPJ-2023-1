{
 "cells": [
  {
   "cell_type": "code",
   "execution_count": 1,
   "id": "initial_id",
   "metadata": {
    "collapsed": true,
    "ExecuteTime": {
     "end_time": "2023-11-27T06:26:01.464549600Z",
     "start_time": "2023-11-27T06:26:01.453295500Z"
    }
   },
   "outputs": [],
   "source": [
    "def bfs(graph, start):\n",
    "    visited = []\n",
    "    queue = []\n",
    "    queue = [start]\n",
    "    while queue:\n",
    "        node = queue.pop(0)\n",
    "        if node not in visited:\n",
    "            visited.append(node)\n",
    "            neighbours = graph[node]\n",
    "            for neighbour in neighbours:\n",
    "                queue.append(neighbour)\n",
    "    return visited"
   ]
  },
  {
   "cell_type": "code",
   "execution_count": null,
   "outputs": [],
   "source": [
    "graph = {'Amin' : ['Wasim', 'Nick', 'Mike'],\n",
    "         'Wasim' : ['Imran', 'Amin'],\n",
    "         'Imran' : ['Wasim', 'Faras'],\n",
    "         'Faras' : ['Imran'],\n",
    "         'Mike' : ['Amin'],\n",
    "         'Nick' : ['Amin']\n",
    "         }"
   ],
   "metadata": {
    "collapsed": false
   },
   "id": "1bf6268e0ca52764"
  },
  {
   "cell_type": "code",
   "execution_count": 4,
   "outputs": [
    {
     "ename": "NameError",
     "evalue": "name 'graph' is not defined",
     "output_type": "error",
     "traceback": [
      "\u001B[1;31m---------------------------------------------------------------------------\u001B[0m",
      "\u001B[1;31mNameError\u001B[0m                                 Traceback (most recent call last)",
      "Cell \u001B[1;32mIn[4], line 1\u001B[0m\n\u001B[1;32m----> 1\u001B[0m bfs(\u001B[43mgraph\u001B[49m, \u001B[38;5;124m'\u001B[39m\u001B[38;5;124mAmin\u001B[39m\u001B[38;5;124m'\u001B[39m)\n",
      "\u001B[1;31mNameError\u001B[0m: name 'graph' is not defined"
     ]
    }
   ],
   "source": [
    "bfs(graph, 'Amin')"
   ],
   "metadata": {
    "collapsed": false,
    "ExecuteTime": {
     "end_time": "2023-11-27T06:27:31.868921Z",
     "start_time": "2023-11-27T06:27:31.818087700Z"
    }
   },
   "id": "873fda8104834828"
  },
  {
   "cell_type": "code",
   "execution_count": null,
   "outputs": [],
   "source": [],
   "metadata": {
    "collapsed": false
   },
   "id": "6351407b573d5909"
  }
 ],
 "metadata": {
  "kernelspec": {
   "display_name": "Python 3",
   "language": "python",
   "name": "python3"
  },
  "language_info": {
   "codemirror_mode": {
    "name": "ipython",
    "version": 2
   },
   "file_extension": ".py",
   "mimetype": "text/x-python",
   "name": "python",
   "nbconvert_exporter": "python",
   "pygments_lexer": "ipython2",
   "version": "2.7.6"
  }
 },
 "nbformat": 4,
 "nbformat_minor": 5
}
